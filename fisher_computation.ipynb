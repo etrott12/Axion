{
 "cells": [
  {
   "cell_type": "code",
   "execution_count": 2,
   "metadata": {},
   "outputs": [
    {
     "name": "stdout",
     "output_type": "stream",
     "text": [
      "(6, 5, 2998, 6, 6)\n",
      "(6, 5, 2998, 6, 6)\n"
     ]
    }
   ],
   "source": [
    "import numpy as np\n",
    "from numpy import linalg\n",
    "import scipy as scp\n",
    "from scipy import linalg\n",
    "\n",
    "%matplotlib inline\n",
    "import matplotlib\n",
    "import matplotlib.pyplot as plt\n",
    "\n",
    "pl = np.load('data2/pl_mass1.npy')\n",
    "for i in range(1,6):\n",
    "#     pl.append(np.transpose(np.load('pl_mass%s.npy'%(i+1)),(1,2,0,5,3,4))[0][4])\n",
    "    pl = np.concatenate((pl,(np.load('data2/pl_mass%s.npy'%(i+1)))),axis = 1)\n",
    "pl = np.transpose(pl,(2,1,0,5,3,4))[4]\n",
    "print(np.shape(pl))\n",
    "\n",
    "deriv = []\n",
    "# deriv = np.load('deriv_mass1.npy')\n",
    "for i in range(6):\n",
    "    deriv.append(np.load('data2/deriv_mass%s.npy'%(i+1)))\n",
    "deriv = np.transpose(deriv,(0,1,4,2,3))\n",
    "print(np.shape(deriv))\n",
    "\n",
    "#imports P(ell) and removes the mass dimension with [0] and selects the central value param run with [4] \n",
    "# deriv = np.transpose(np.load('deriv_mass1.npy'),(0,3,1,2))\n",
    "#imports derivatives\n",
    "# print 'P(ell) shape  : ',np.shape(pl),' should be (5, 2998, 6, 6)'\n",
    "# print 'Derivative shape  : ',np.shape(deriv),' should be (5, 2998, 6, 6)'\n",
    "# print '(5 parameters, 2998 ell-values, 6x6 correlated zbins)'\n",
    "\n",
    "ell = np.arange(2,3000,1)\n",
    "ell_mod = np.reshape((2.*ell+1.)/2.,(1,1,1,2998))\n",
    "fsky = 0.485"
   ]
  },
  {
   "cell_type": "code",
   "execution_count": 4,
   "metadata": {},
   "outputs": [
    {
     "name": "stdout",
     "output_type": "stream",
     "text": [
      "(6, 5, 6, 6, 2998)\n"
     ]
    },
    {
     "data": {
      "image/png": "[encoded data removed]",
      "text/plain": [
       "<Figure size 432x288 with 1 Axes>"
      ]
     },
     "metadata": {
      "needs_background": "light"
     },
     "output_type": "display_data"
    }
   ],
   "source": [
    "ell_mod = np.reshape((2.*ell+1.)/2.,(1,1,1,1,2998))\n",
    "pl_plot = ell_mod*np.transpose(pl,(0,1,3,4,2))\n",
    "print(np.shape(pl_plot))\n",
    "for i in range(6):\n",
    "    plt.loglog(ell,np.sqrt(pl_plot[i][0][0][0]))\n",
    "# plt.yscale('log')"
   ]
  },
  {
   "cell_type": "code",
   "execution_count": 12,
   "metadata": {},
   "outputs": [
    {
     "name": "stdout",
     "output_type": "stream",
     "text": [
      "76.36344355667015\n",
      "[[ 1.00000000e+00 -3.60822483e-16 -9.02056208e-17  1.38777878e-17\n",
      "  -5.99346961e-16 -9.44936403e-16]\n",
      " [ 2.24820162e-15  1.00000000e+00  3.53449908e-16  6.92534138e-17\n",
      "   7.07509680e-17  6.56824287e-16]\n",
      " [-7.77156117e-16 -3.33066907e-16  1.00000000e+00 -6.37510877e-16\n",
      "  -2.85145171e-16  1.99378003e-16]\n",
      " [-1.38777878e-16 -1.35308431e-16 -5.37764278e-17  1.00000000e+00\n",
      "   6.49708152e-17 -4.19717531e-16]\n",
      " [-5.55111512e-16 -2.77555756e-16  1.04083409e-16 -2.53269627e-16\n",
      "   1.00000000e+00  6.65158033e-17]\n",
      " [ 1.11022302e-16  8.32667268e-17  1.90819582e-17 -8.28330460e-17\n",
      "   1.30917412e-16  1.00000000e+00]]\n"
     ]
    }
   ],
   "source": [
    "# inv = np.linalg.inv(pl)\n",
    "test = pl[0][0][1000]\n",
    "print(np.linalg.cond(test))\n",
    "inv = np.linalg.inv(test)\n",
    "print(np.matmul(inv,test))\n",
    "\n",
    "# print(np.shape(inv),np.shape(deriv))\n",
    "# inv2 = np.transpose(inv,(0,2,3,4,1))[0][1000][0][0]\n",
    "# deriv2 = np.transpose(deriv,(0,2,3,4,1))[0][1000][0][0]\n",
    "# intrace2 = []\n",
    "# for i in range(5):\n",
    "#     h1 = []\n",
    "#     h2 = []\n",
    "#     h3 = []\n",
    "#     for j in range(5):\n",
    "#         h1.append(0.5*(inv2[i]*deriv2[i]*inv2[i]*deriv2[j]))\n",
    "#         h2.append(0.5*(inv2[j]*deriv2[j]*inv2[j]*deriv2[i]))\n",
    "#         h3 = h2+h1\n",
    "#     intrace2.append(h3)\n",
    "# print(intrace2)\n",
    "        "
   ]
  },
  {
   "cell_type": "code",
   "execution_count": 7,
   "metadata": {},
   "outputs": [
    {
     "name": "stdout",
     "output_type": "stream",
     "text": [
      "inverting P(ell)...\n",
      "(6, 5, 2998, 6, 6)\n"
     ]
    }
   ],
   "source": [
    "print('inverting P(ell)...')\n",
    "inv = np.linalg.inv(pl)\n",
    "print(np.shape(inv))\n",
    "\n",
    "# print 'multiplying P(ell) and derivative matrices...'\n",
    "# in_trace = []\n",
    "# for x in range(6):\n",
    "#     h1 = []\n",
    "#     for i in range(5):\n",
    "#         h2 = []\n",
    "#         h3 = []\n",
    "#         h4 = []\n",
    "#         for j in range(5):\n",
    "#             h2.append(0.5*(np.matmul(np.matmul(np.matmul(inv[x][i],deriv[x][i]),inv[x][i]),deriv[x][j])))\n",
    "#             h3.append(0.5*(np.matmul(np.matmul(np.matmul(inv[x][j],deriv[x][j]),inv[x][j]),deriv[x][i])))\n",
    "#             h4 = (h2+h3)\n",
    "#         h1.append(h4)\n",
    "#     in_trace.append(h1)\n",
    "\n",
    "# test2 = np.transpose(in_trace,(0,3,4,5,1,2))[0][1000][0][0]\n",
    "# print test2\n",
    "\n",
    "# print 'computing fisher matrix...'\n",
    "# trace = np.trace(in_trace,axis1 = 4,axis2 = 5)\n",
    "# print np.shape(trace)\n",
    "# test = np.transpose(trace,(3,0,1,2))\n",
    "# print test[1000][0]\n",
    "# fisher = fsky*np.sum(trace*ell_mod,axis = 3)\n",
    "# print fisher[0]\n",
    "# print 'extracting forecasted constraints...'\n",
    "# # covariance = scp.linalg.pinv2(fisher)\n",
    "# covariance = np.linalg.inv(fisher)\n",
    "# print covariance[0]\n",
    "# print np.linalg.cond(fisher[3])\n",
    "\n",
    "# # print np.matmul(covariance,fisher)\n",
    "# constraints = []\n",
    "# for i in range(6):\n",
    "#     constraints.append(np.sqrt(np.diag(covariance[i])))\n",
    "\n",
    "# param_names = ['\\Omega_b','\\Omega_{cdm}','f_a','n_s','H_0']\n",
    "# fv = [0.02225,0.1198,0.0001,67.27,0.9645]\n",
    "# for i in range(len(constraints)):\n",
    "#     for j in range(6):\n",
    "#         print r'$%s$'%(param_names[i]),' :  ',fv[i],' $\\pm$ ',np.round(constraints[j][i],5)\n",
    "\n",
    "# cholesky = np.linalg.cholesky(fisher)\n",
    "# cov = np.dot(np.linalg.inv(np.transpose(cholesky)),np.linalg.inv(cholesky))\n",
    "# print cov\n",
    "\n",
    "# print np.linalg.cond(fisher)\n",
    "# condition number is 5e9, which is below 10e16 to be officially 'ill-conditioned'\n",
    "# linalg.pinv2 does a pretty good job but not amazing\n",
    "# cannot do cholesky b/c not positive definite"
   ]
  },
  {
   "cell_type": "code",
   "execution_count": 4,
   "metadata": {
    "collapsed": true
   },
   "outputs": [],
   "source": [
    "# %matplotlib inline\n",
    "# import matplotlib\n",
    "# import matplotlib.pyplot as plt\n",
    "\n",
    "# ell_mod2 = np.reshape(ell_mod,(1,1,1,2998))\n",
    "# pl_plot = np.transpose(pl,(0,1,3,2))*ell_mod2\n",
    "# deriv_plot = np.transpose(deriv,(0,1,3,2))\n",
    "# print np.shape(pl_plot),np.shape(deriv_plot)\n",
    "    \n",
    "# for i in range(6):\n",
    "#     plt.loglog(ell,pl_plot[i][2][0])"
   ]
  },
  {
   "cell_type": "code",
   "execution_count": 5,
   "metadata": {
    "collapsed": true
   },
   "outputs": [],
   "source": [
    "# for i in range(6):\n",
    "# #     plt.loglog(ell,np.abs(deriv_plot[i][2][0]))\n",
    "#     plt.plot(ell,deriv_plot[i][2][0])\n",
    "# plt.xscale('log')"
   ]
  },
  {
   "cell_type": "code",
   "execution_count": 7,
   "metadata": {
    "collapsed": true
   },
   "outputs": [],
   "source": [
    "# #cross-correlation\n",
    "\n",
    "# pl_correlated = []\n",
    "# deriv_correlated = []\n",
    "# for i in range(np.shape(pl)[0]):\n",
    "#     pl_hold1 = []\n",
    "#     deriv_hold1 = []\n",
    "#     for j in range(np.shape(pl)[1]):\n",
    "#         pl_hold2 = []\n",
    "#         deriv_hold2 = []\n",
    "#         for m in range(np.shape(pl)[2]):\n",
    "#             pl_hold3 = []\n",
    "#             deriv_hold3 = []\n",
    "#             for x in range(np.shape(pl)[3]):\n",
    "#                 pl_hold4 = []\n",
    "#                 deriv_hold4 = []\n",
    "#                 for y in range(np.shape(pl)[3]):\n",
    "#                     pl_hold4.append(pl[i][j][m][x]*pl[i][j][m][y])\n",
    "#                     deriv_hold4.append(deriv[i][j][m][x]*deriv[i][j][m][y])\n",
    "#                 pl_hold3.append(pl_hold4)\n",
    "#                 deriv_hold3.append(deriv_hold4)\n",
    "#             pl_hold2.append(pl_hold3)\n",
    "#             deriv_hold2.append(deriv_hold3)\n",
    "#         pl_hold1.append(pl_hold2)\n",
    "#         deriv_hold1.append(deriv_hold2)\n",
    "#     pl_correlated.append(pl_hold1)\n",
    "#     deriv_correlated.append(deriv_hold1)\n",
    "#     print 'completed',i+1,'/11'\n",
    "\n",
    "# print 'P(ell) correlated shape :  ',np.shape(pl_correlated),'  // should be (11, 5, 2998, 30, 30)'\n",
    "# print 'P(ell) correlated derivative shape :  ',np.shape(deriv_correlated),'  // should be (11, 5, 2998, 30, 30)'"
   ]
  },
  {
   "cell_type": "code",
   "execution_count": 8,
   "metadata": {
    "collapsed": true
   },
   "outputs": [],
   "source": [
    "# np.save('pl_correlated.npy',pl_correlated)\n",
    "# np.save('deriv_correlated.npy',deriv_correlated)\n",
    "\n",
    "# pl_correlated = np.load('pl_correlated.npy')\n",
    "# deriv_correlated = np.load('deriv_correlated.npy')"
   ]
  },
  {
   "cell_type": "code",
   "execution_count": 61,
   "metadata": {},
   "outputs": [
    {
     "name": "stdout",
     "output_type": "stream",
     "text": [
      "(2998, 30, 30)\n"
     ]
    }
   ],
   "source": [
    "# test = pl_correlated[2][0]\n",
    "# print np.shape(test)\n",
    "\n",
    "# p1 = np.transpose(test,(1,0,2))\n",
    "# p2 = np.transpose(test,(2,0,1))\n",
    "\n",
    "# for i in range(100,102):\n",
    "#     for x in range(30):\n",
    "#         for y in range(30):\n",
    "#             plt.plot(test[i][x],test[i][y])"
   ]
  },
  {
   "cell_type": "code",
   "execution_count": 11,
   "metadata": {},
   "outputs": [
    {
     "name": "stdout",
     "output_type": "stream",
     "text": [
      "[[327.0311383940811, 412.62619173784589], [376.36151358547249, 474.86798605803881]]\n"
     ]
    }
   ],
   "source": [
    "# pl_inverse = np.linalg.cholesky(pl_correlated)\n",
    "# print 'P(ell) inverse shape :  ',np.shape(pl_inverse),'  // should be (11, 5, 2998, 30, 30)'\n",
    "\n",
    "test = pl_correlated[2][0][1000]\n",
    "# test2 = test*np.power(10,17)\n",
    "# inverse = np.linalg.inv(test2)\n",
    "# print np.shape(inverse)\n",
    "# check = np.matmul(inverse,test2)\n",
    "# print check\n",
    "\n",
    "twos = []\n",
    "for i in range(2):\n",
    "    hold = []\n",
    "    for j in range(26,28):\n",
    "        hold.append(test2[i][j])\n",
    "    twos.append(hold)\n",
    "print twos\n",
    "# print 'condition number = ',np.linalg.cond(twos)\n",
    "# inverse2 = scp.linalg.pinv2(twos)\n",
    "# print inverse2\n",
    "# check = np.matmul(twos,inverse2)\n",
    "# print check\n",
    "\n",
    "# diagonal = np.zeros((30,30))\n",
    "# for i in range(30):\n",
    "#     for j in range(30):\n",
    "#         if i == j:\n",
    "#             diagonal[i][j] = np.diag(test)[i]\n",
    "# inv = np.linalg.inv(diagonal)\n",
    "# print np.diag(inv)\n",
    "# cholesky = np.linalg.cholesky(diagonal)\n",
    "# # print np.linalg.cond(cholesky)\n",
    "# inv2 = np.dot(np.linalg.inv(np.transpose(cholesky)),np.linalg.inv(cholesky))\n",
    "# print np.diag(inv2)\n",
    "\n",
    "####### ERRORS ########\n",
    "#not inverting properly with .inv nor .pinv -- not returning mat*mat_inv = I\n",
    "#cholesky error 'matrix is not positive definite'\n",
    "\n",
    "####### TESTS #######\n",
    "# matrix is ill conditioned (condition number= 5.5e20) but not singular\n",
    "# cholesky does NOT work even for a reduced 2x2 version of the 30x30 matrix\n",
    "# np.linalg.inv works (i.e. P*P_inv = I) after zeroing all off-diagonals --> off_diagonals are the problem\n",
    "# --- subnote :  np.linalg.cholesky also works with zeroed off-diagonals\n",
    "# both methods 1. and 2. are identical\n",
    "# --- method 1 : zero out all off-diagonal terms\n",
    "# --- method 2 : convert matrix multiplication to delta function summations\n",
    "# the matrix is ill-conditioned even with linear re-scalings\n",
    "# --- there is no linear/obvious dependence of the rescaling on the condition number\n",
    "# even after rescaling, both np.linalg.inv and np.linalg.pinv fail to return the identity\n",
    "# even after rescaling, cholesky does not work -- returns 'matrix not positive definite'\n",
    "# the determinant of the 2x2 is nearly zero (1.88e-15) --> nearly singular\n",
    "\n",
    "#try very separate bins -- have smaller off-diagonal terms\n",
    "\n",
    "#the bins strongly overlap --> off diagonals are large for bins that are close\n",
    "    #may need to create 'meta-bins' that combine multiple bins (by adding window functions) to get small enough overlaps/off-diagonals"
   ]
  },
  {
   "cell_type": "code",
   "execution_count": 9,
   "metadata": {},
   "outputs": [
    {
     "ename": "TypeError",
     "evalue": "append() takes exactly one argument (0 given)",
     "output_type": "error",
     "traceback": [
      "\u001b[0;31m---------------------------------------------------------------------------\u001b[0m",
      "\u001b[0;31mTypeError\u001b[0m                                 Traceback (most recent call last)",
      "\u001b[0;32m<ipython-input-9-b7d74ca93504>\u001b[0m in \u001b[0;36m<module>\u001b[0;34m\u001b[0m\n\u001b[1;32m      5\u001b[0m         \u001b[0min_trace_hold2\u001b[0m \u001b[0;34m=\u001b[0m \u001b[0;34m[\u001b[0m\u001b[0;34m]\u001b[0m\u001b[0;34m\u001b[0m\u001b[0;34m\u001b[0m\u001b[0m\n\u001b[1;32m      6\u001b[0m         \u001b[0;32mfor\u001b[0m \u001b[0my\u001b[0m \u001b[0;32min\u001b[0m \u001b[0mrange\u001b[0m\u001b[0;34m(\u001b[0m\u001b[0;36m5\u001b[0m\u001b[0;34m)\u001b[0m\u001b[0;34m:\u001b[0m\u001b[0;34m\u001b[0m\u001b[0;34m\u001b[0m\u001b[0m\n\u001b[0;32m----> 7\u001b[0;31m             \u001b[0min_trace_hold2\u001b[0m\u001b[0;34m.\u001b[0m\u001b[0mappend\u001b[0m\u001b[0;34m(\u001b[0m\u001b[0;34m)\u001b[0m\u001b[0;34m\u001b[0m\u001b[0;34m\u001b[0m\u001b[0m\n\u001b[0m\u001b[1;32m      8\u001b[0m         \u001b[0min_trace_hold1\u001b[0m\u001b[0;34m.\u001b[0m\u001b[0mappend\u001b[0m\u001b[0;34m(\u001b[0m\u001b[0min_trace_hold2\u001b[0m\u001b[0;34m)\u001b[0m\u001b[0;34m\u001b[0m\u001b[0;34m\u001b[0m\u001b[0m\n\u001b[1;32m      9\u001b[0m     \u001b[0min_trace\u001b[0m\u001b[0;34m.\u001b[0m\u001b[0mappend\u001b[0m\u001b[0;34m(\u001b[0m\u001b[0min_trace_hold1\u001b[0m\u001b[0;34m)\u001b[0m\u001b[0;34m\u001b[0m\u001b[0;34m\u001b[0m\u001b[0m\n",
      "\u001b[0;31mTypeError\u001b[0m: append() takes exactly one argument (0 given)"
     ]
    }
   ],
   "source": [
    "in_trace = []\n",
    "for i in range(11):\n",
    "    in_trace_hold1 = []\n",
    "    for x in range(5):\n",
    "        in_trace_hold2 = []\n",
    "        for y in range(5):\n",
    "            in_trace_hold2.append()\n",
    "        in_trace_hold1.append(in_trace_hold2)\n",
    "    in_trace.append(in_trace_hold1)\n",
    "print('In-Trace array shape :  ',np.shape(in_trace),'  // should be (11, 5, 5, 2998, 30, 30)')\n",
    "\n",
    "trace = np.trace(in_trace,axis1 = 4,axis2 = 5)\n",
    "print('Traced array shape :  ',np.shape(trace),' //  should be (11, 5, 5, 2998, 30)')\n",
    "\n",
    "ell_moded = trace*ell_mod\n",
    "print('Ell-Moded array shape :  ',np.shape(ell_moded),' //  should be (11, 5, 5, 2998, 30)')\n",
    "\n",
    "fisher = fsky*np.sum(ell_moded,axis = 3)\n",
    "print('Fisher matrix shape :  ',np.shape(fisher),' //  should be (11, 5, 5, 30)')"
   ]
  },
  {
   "cell_type": "code",
   "execution_count": null,
   "metadata": {},
   "outputs": [],
   "source": []
  }
 ],
 "metadata": {
  "kernelspec": {
   "display_name": "Python 3",
   "language": "python",
   "name": "python3"
  },
  "language_info": {
   "codemirror_mode": {
    "name": "ipython",
    "version": 3
   },
   "file_extension": ".py",
   "mimetype": "text/x-python",
   "name": "python",
   "nbconvert_exporter": "python",
   "pygments_lexer": "ipython3",
   "version": "3.7.3"
  }
 },
 "nbformat": 4,
 "nbformat_minor": 2
}
