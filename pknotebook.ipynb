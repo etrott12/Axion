{
 "cells": [
  {
   "cell_type": "code",
   "execution_count": 1,
   "metadata": {
    "collapsed": true
   },
   "outputs": [],
   "source": [
    "import subprocess\n",
    "from numpy import *\n",
    "import numpy as np\n",
    "from numpy import linalg\n",
    "import scipy as spy\n",
    "from scipy import special\n",
    "from itertools import product\n",
    "\n",
    "%matplotlib inline\n",
    "import matplotlib\n",
    "import matplotlib.pyplot as plt"
   ]
  },
  {
   "cell_type": "code",
   "execution_count": 10,
   "metadata": {},
   "outputs": [],
   "source": [
    "#Standard values for [wb,wc,wa,h,ns]\n",
    "central_values = [0.02238,0.125,0.0000001,67.7,0.96]\n",
    "#Fine tuned step sizes to ensure well-behaved derivatives\n",
    "fin_epsilon_definite = [0.00125,0.0051,0.001,0.08,0.025]\n",
    "#Converts the step sizes to fractional step sizes\n",
    "fin_epsilon = [fin_epsilon_definite[i]/central_values[i] for i in range(len(fin_epsilon_definite))]\n",
    "#Creates upper and lower values for each parameter to obtain accurate derivatives\n",
    "fin_varied = []\n",
    "for i in range(len(central_values)):\n",
    "    #omega_axion uses a one-sided derivative to avoid negative values\n",
    "    if i == 2:\n",
    "        fin_varied.append([central_values[i],central_values[i]*(1.+fin_epsilon[i])])\n",
    "    #all other parameters  use two-sided derivatives\n",
    "    else:\n",
    "        fin_varied.append([central_values[i]*(1.-fin_epsilon[i]),central_values[i]*(1.+fin_epsilon[i])])\n",
    "#Creates a list of masses even space in log-space\n",
    "masses = np.logspace(-24,-30,100)"
   ]
  },
  {
   "cell_type": "code",
   "execution_count": 11,
   "metadata": {
    "collapsed": true
   },
   "outputs": [],
   "source": [
    "k_wb = {key:{i:[] for i in range(2*len(fin_varied[1]))} for key in range(len(masses))}\n",
    "Pk_wb = {key:{i:[] for i in range(2*len(fin_varied[1]))} for key in range(len(masses))}\n",
    "k_wc = {key:{i:[] for i in range(2*len(fin_varied[1]))} for key in range(len(masses))}\n",
    "Pk_wc = {key:{i:[] for i in range(2*len(fin_varied[1]))} for key in range(len(masses))}\n",
    "k_wa = {key:{i:[] for i in range(2*len(fin_varied[1]))} for key in range(len(masses))}\n",
    "Pk_wa = {key:{i:[] for i in range(2*len(fin_varied[1]))} for key in range(len(masses))}\n",
    "k_ns = {key:{i:[] for i in range(2*len(fin_varied[1]))} for key in range(len(masses))}\n",
    "Pk_ns = {key:{i:[] for i in range(2*len(fin_varied[1]))} for key in range(len(masses))}\n",
    "k_h = {key:{i:[] for i in range(2*len(fin_varied[1]))} for key in range(len(masses))}\n",
    "Pk_h = {key:{i:[] for i in range(2*len(fin_varied[1]))} for key in range(len(masses))}\n",
    "k = {key:{i:[] for i in range(2*len(fin_varied[1]))} for key in range(len(masses))}\n",
    "Pk = {key:{i:[] for i in range(2*len(fin_varied[1]))} for key in range(len(masses))}\n"
   ]
  },
  {
   "cell_type": "code",
   "execution_count": 53,
   "metadata": {},
   "outputs": [
    {
     "name": "stdout",
     "output_type": "stream",
     "text": [
      "(5, 100, 2)\n"
     ]
    }
   ],
   "source": [
    "rlist = np.arange(0,100,1)\n",
    "#print rlist\n",
    "even = np.arange(2,201,2)\n",
    "odd = np.arange(1,201,2)\n",
    "mlist = [[odd[i],even[i]] for i in range(len(even))]\n",
    "pk = []\n",
    "#pk.append(loadtxt('mp/wb1_m0.dat',unpack = True, usecols = [1]))\n",
    "pk.append([[loadtxt('mp/wb%s_m%s.dat' %(mlist[j][i],rlist[j]), unpack = True, usecols=[1]) for i in range(2)] for j in range(len(mlist))])\n",
    "pk.append([[loadtxt('mp/wc%s_m%s.dat' %(mlist[j][i],rlist[j]), unpack = True, usecols=[1]) for i in range(2)] for j in range(len(mlist))])\n",
    "pk.append([[loadtxt('mp/wa%s_m%s.dat' %(mlist[j][i],rlist[j]), unpack = True, usecols=[1]) for i in range(2)] for j in range(len(mlist))])\n",
    "pk.append([[loadtxt('mp/ns%s_m%s.dat' %(mlist[j][i],rlist[j]), unpack = True, usecols=[1]) for i in range(2)] for j in range(len(mlist))])\n",
    "pk.append([[loadtxt('mp/h%s_m%s.dat' %(mlist[j][i],rlist[j]), unpack = True, usecols=[1]) for i in range(2)] for j in range(len(mlist))])\n",
    "\n",
    "print np.shape(pk)"
   ]
  },
  {
   "cell_type": "code",
   "execution_count": null,
   "metadata": {
    "collapsed": true
   },
   "outputs": [],
   "source": []
  }
 ],
 "metadata": {
  "kernelspec": {
   "display_name": "Python 3",
   "language": "python",
   "name": "python3"
  },
  "language_info": {
   "codemirror_mode": {
    "name": "ipython",
    "version": 3
   },
   "file_extension": ".py",
   "mimetype": "text/x-python",
   "name": "python",
   "nbconvert_exporter": "python",
   "pygments_lexer": "ipython3",
   "version": "3.7.3"
  }
 },
 "nbformat": 4,
 "nbformat_minor": 2
}
