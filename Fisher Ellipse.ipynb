{
 "cells": [
  {
   "cell_type": "code",
   "execution_count": null,
   "metadata": {},
   "outputs": [],
   "source": [
    "def plot_ellipse(cov, con_level, x_cent, y_cent, theta_num=1e3):\n",
    "    \n",
    "    eig_vec,eig_val,u = np.linalg.svd(cov)\n",
    "    if eig_vec[0][0] < 0:\n",
    "        eig_vec[0] *= -1\n",
    "    semimaj = np.sqrt(eig_val[0])\n",
    "    semimin = np.sqrt(eig_val[1])\n",
    "#     distances = \n",
    "#     if mass_level is None:\n",
    "#         multiplier = np.sqrt(2.279)\n",
    "#     else:\n",
    "#         distances = np.linspace(0,20,20001)\n",
    "#         chi2_cdf = scipy.stats.chi2.cdf(distances,df=2)\n",
    "#         multiplier = np.sqrt(distances[np.where(np.abs(chi2_cdf-mass_level)==np.abs(chi2_cdf-mass_level).min())[0][0]])\n",
    "#     semimaj *= multiplier\n",
    "#     semimin *= multiplier\n",
    "    phi = np.arccos(np.dot(eig_vec[0],np.array([1,0])))\n",
    "    if eig_vec[0][1] < 0 and phi > 0:\n",
    "        phi *= -1\n",
    "    # Generate data for ellipse structure\n",
    "    theta = np.linspace(0,2*np.pi,theta_num)\n",
    "    r = 1 / np.sqrt((np.cos(theta))**2 + (np.sin(theta))**2)\n",
    "    x = r*np.cos(theta)\n",
    "    y = r*np.sin(theta)\n",
    "    ellipse_data = np.array([x,y])\n",
    "    R = np.array([[np.cos(phi),-np.sin(phi)],[np.sin(phi),np.cos(phi)]])\n",
    "    T = []\n",
    "    for i in range(len(con_level)):\n",
    "        S = np.array([[semimaj[i],0],[0,semimin[i]]])\n",
    "        T.append(np.dot(R,S))\n",
    "    ellipse_data2 = [np.dot(T[i],ellipse_data) for i in range(len(T))]\n",
    "    a = ellipse_data2[0][0]+x_cent\n",
    "    b = ellipse_data2[0][1]+y_cent\n",
    "    c = ellipse_data[1][0]+x_cent\n",
    "    d = ellipse_data2[1][1]+y_cent\n",
    "    return a,b,c,d"
   ]
  }
 ],
 "metadata": {
  "kernelspec": {
   "display_name": "Python 3",
   "language": "python",
   "name": "python3"
  },
  "language_info": {
   "codemirror_mode": {
    "name": "ipython",
    "version": 3
   },
   "file_extension": ".py",
   "mimetype": "text/x-python",
   "name": "python",
   "nbconvert_exporter": "python",
   "pygments_lexer": "ipython3",
   "version": "3.7.3"
  }
 },
 "nbformat": 4,
 "nbformat_minor": 2
}
