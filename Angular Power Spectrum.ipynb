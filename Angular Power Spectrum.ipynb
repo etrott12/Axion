{
 "cells": [
  {
   "cell_type": "code",
   "execution_count": 2,
   "metadata": {},
   "outputs": [],
   "source": [
    "import numpy as np\n",
    "%matplotlib inline\n",
    "import matplotlib\n",
    "import matplotlib.pyplot as plt\n",
    "import scipy as sp\n",
    "from scipy import special\n",
    "from scipy.interpolate import CubicSpline\n",
    "matplotlib.rc('text', usetex = True)\n",
    "\n",
    "\n",
    "# %run Window_Functions.ipynb\n",
    "# %run Cosmology.ipynb"
   ]
  },
  {
   "cell_type": "markdown",
   "metadata": {},
   "source": [
    "# Construct Integrand"
   ]
  },
  {
   "cell_type": "code",
   "execution_count": 34,
   "metadata": {},
   "outputs": [],
   "source": [
    "# redshift list of axioncCAMB runs\n",
    "zlist = np.linspace(0,4.5,301)\n",
    "# power spectrum arrays with reversed z-dimension\n",
    "# axionCAMB outputs redshift from high to low -- converted here to low to high\n",
    "k = np.reshape(np.load('../data2/k.npy')[:,:,:,::-1],(5,11,9,1,1,len(zlist),660))\n",
    "pk = np.reshape(np.load('../data2/pk.npy')[:,:,:,::-1],(5,11,9,1,1,len(zlist),660))\n",
    "# dimensionless power spectrum\n",
    "pk_dimless = (pk*np.power(k,3.0))/(2.0*np.square(np.pi))\n",
    "# angular diameter distance\n",
    "da = np.reshape(d_a(zlist),(1,1,1,1,1,len(zlist),1))\n",
    "# hubble constant\n",
    "hz = np.reshape(h(zlist),(1,1,1,1,1,len(zlist),1))\n",
    "# window functions\n",
    "wi = np.reshape(np.load('window_functions.npy'),(1,1,1,len(zavg),len(zavg),len(zlist),1))\n",
    "# combine integrand factors\n",
    "m = pk_dimless * da * hz * wi\n",
    "print('array dimensions',np.shape(m), 'correspond to (param, mass, param value, z-bin, z-bin, z, k)')"
   ]
  },
  {
   "cell_type": "code",
   "execution_count": 5,
   "metadata": {},
   "outputs": [
    {
     "name": "stdout",
     "output_type": "stream",
     "text": [
      "(5, 11, 9, 6, 6, 301, 660)\n"
     ]
    }
   ],
   "source": [
    "test =  np.load('../data2/m.npy')\n",
    "print(np.shape(test))"
   ]
  },
  {
   "cell_type": "markdown",
   "metadata": {},
   "source": [
    "# Interpolate"
   ]
  },
  {
   "cell_type": "code",
   "execution_count": 35,
   "metadata": {},
   "outputs": [],
   "source": [
    "# multipole values at which to compute P(ell)\n",
    "lgoal = np.arange(2,3000,1)\n",
    "# interpolate from k to ell\n",
    "lmat = np.zeros((1,1,1,1,1,numz,2998))\n",
    "for i in range(numz):\n",
    "    lmat[0][0][0][0][0][i] = lgoal\n",
    "kmat = lmat/da\n",
    "\n",
    "integrand = []\n",
    "# parameter dimension\n",
    "for i in range(5):\n",
    "    print('Running parameter',i+1,'/ 5')\n",
    "    h1 = []\n",
    "    # axion mass dimension\n",
    "    for x in range(11):\n",
    "        h2 = []\n",
    "        # parameter value dimension\n",
    "        for y in range(9):\n",
    "            h3 = []\n",
    "            # zbin dimension 1\n",
    "            for j in range(len(zbounds)):\n",
    "                h4 = []\n",
    "                # zbin dimension 2 (for auto and cross-correlating zbins)\n",
    "                for e in range(len(zbounds)):\n",
    "                    h5 = []\n",
    "                    #if j == e:\n",
    "                    # redshift dimension\n",
    "                    for f in range(len(zlist)):\n",
    "                        # convert k to ell\n",
    "                        spline = CubicSpline(k[i][x][y][0][0][f],m[i][x][y][j][e][f])\n",
    "                        h5.append(spline(kmat[0][0][0][0][0][f]))\n",
    "                    h4.append(h5)\n",
    "                h3.append(h4)\n",
    "            h2.append(h3)\n",
    "        h1.append(h2)\n",
    "    integrand.append(h1)\n",
    "print('ell-space integrand shape : ',np.shape(integrand))"
   ]
  },
  {
   "cell_type": "markdown",
   "metadata": {},
   "source": [
    "# Integrate"
   ]
  },
  {
   "cell_type": "code",
   "execution_count": 33,
   "metadata": {},
   "outputs": [],
   "source": [
    "# integrate over redshift\n",
    "integrated = np.trapz(np.nan_to_num(integrand),z,dz,axis = 5)\n",
    "# P(ell) prefactor\n",
    "prefactor = np.reshape((2*np.square(np.pi))/(c*np.power(lgoal,3)),(1,1,1,1,1,2998))\n",
    "# angular power spectrum\n",
    "Pl = integrated*prefactor\n",
    "np.save('Pl.npy',Pl)\n",
    "print('P(ell) shape : ',np.shape(Pl))"
   ]
  },
  {
   "cell_type": "markdown",
   "metadata": {},
   "source": [
    "# Plot Axion Effects on $P(\\ell)$"
   ]
  },
  {
   "cell_type": "code",
   "execution_count": 9,
   "metadata": {},
   "outputs": [
    {
     "data": {
      "image/png": "[encoded data removed]",
      "text/plain": [
       "<Figure size 432x288 with 1 Axes>"
      ]
     },
     "metadata": {
      "needs_background": "light"
     },
     "output_type": "display_data"
    }
   ],
   "source": [
    "Pl = np.transpose([np.load('Data/pl_m%s.npy'%(i)) for i in range(1,12)],(0,1,5,2,3,4))\n",
    "pl_test = np.transpose(Pl,(3,4,1,0,2,5))[0][0][2]\n",
    "lgoal = np.arange(2,3000,1)\n",
    "\n",
    "plt.loglog(lgoal,pl_test[10][0],label = r'$\\Lambda {\\rm CDM}$',color = 'k',alpha = 1)\n",
    "# plt.loglog(lgoal,pl_test[3][4],label = r'$m_a = 10^{-27}$eV, $f_a = 10\\%$',color = 'b',alpha = 1)\n",
    "plt.loglog(lgoal,pl_test[8][4],label = r'$m_{\\rm a} = 10^{-24}{\\rm eV}$, $f_a = 10\\%$',color = 'r',alpha = 1,linestyle  =  'dashed')\n",
    "plt.loglog(lgoal,pl_test[10][0],color = 'k',alpha = 1)\n",
    "plt.xlabel('$\\ell$',size = 14)\n",
    "plt.ylabel('$P(\\ell)$',size = 14)\n",
    "# plt.title('$P(\\ell)$ Dependence on Axion Mass',size = 14)\n",
    "plt.legend(frameon = False,fontsize = 14)\n",
    "# plt.savefig('Pl_mass.pdf')\n",
    "\n",
    "# plt.loglog(lgoal,pl_test[10][0],label = r'$\\Lambda CDM$',color = 'k')\n",
    "plt.loglog(lgoal,pl_test[3][4],label = r'$m_{\\rm a} = 10^{-27}{\\rm eV}$, $f_{\\rm a} = 10\\%$',color = 'b',linestyle  =  'dashed')\n",
    "plt.loglog(lgoal,pl_test[3][8],label = r'$m_{\\rm a} = 10^{-27}{\\rm eV}$, $f_{\\rm a} = 20\\%$',color = 'm',linestyle  =  'dashed')\n",
    "plt.loglog(lgoal,pl_test[10][0],color = 'k',alpha = 1)\n",
    "plt.xlabel('$\\ell$',size = 14)\n",
    "plt.ylabel('$P(\\ell)$',size = 14)\n",
    "# plt.title('$P(\\ell)$ Dependence on Axion Fraction',size = 14)\n",
    "plt.legend(frameon = False,fontsize = 14)\n",
    "# plt.savefig('Pl_fraction.pdf')\n",
    "\n",
    "plt.savefig('Pl_axion_effect.pdf')\n",
    "plt.show()\n"
   ]
  },
  {
   "cell_type": "code",
   "execution_count": null,
   "metadata": {},
   "outputs": [],
   "source": []
  }
 ],
 "metadata": {
  "kernelspec": {
   "display_name": "Python 3",
   "language": "python",
   "name": "python3"
  },
  "language_info": {
   "codemirror_mode": {
    "name": "ipython",
    "version": 3
   },
   "file_extension": ".py",
   "mimetype": "text/x-python",
   "name": "python",
   "nbconvert_exporter": "python",
   "pygments_lexer": "ipython3",
   "version": "3.7.3"
  }
 },
 "nbformat": 4,
 "nbformat_minor": 2
}
