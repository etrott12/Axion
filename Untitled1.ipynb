{
 "cells": [
  {
   "cell_type": "code",
   "execution_count": 1,
   "metadata": {},
   "outputs": [],
   "source": [
    "import numpy as np\n",
    "import scipy as sp\n",
    "from scipy import special\n",
    "from scipy.interpolate import CubicSpline\n",
    "import astropy\n",
    "from astropy.cosmology import FlatLambdaCDM\n",
    "import matplotlib.pyplot as plt\n",
    "import itertools"
   ]
  },
  {
   "cell_type": "code",
   "execution_count": 20,
   "metadata": {},
   "outputs": [
    {
     "name": "stdout",
     "output_type": "stream",
     "text": [
      "(5, 11, 5) [[[0.02237, 0.12, 0.012, 67.36, 0.9649], [0.02237, 0.12, 0.012, 67.36, 0.9649], [0.02237, 0.12, 0.012, 67.36, 0.9649], [0.02237, 0.12, 0.012, 67.36, 0.9649], [0.02237, 0.12, 0.012, 67.36, 0.9649], [0.02237, 0.12, 0.012, 67.36, 0.9649], [0.02237, 0.12, 0.012, 67.36, 0.9649], [0.02237, 0.12, 0.012, 67.36, 0.9649], [0.02237, 0.12, 0.012, 67.36, 0.9649], [0.02237, 0.12, 0.012, 67.36, 0.9649], [0.02237, 0.12, 0.012, 67.36, 0.9649]], [[0.02237, 0.12, 0.012, 67.36, 0.9649], [0.02237, 0.12, 0.012, 67.36, 0.9649], [0.02237, 0.12, 0.012, 67.36, 0.9649], [0.02237, 0.12, 0.012, 67.36, 0.9649], [0.02237, 0.12, 0.012, 67.36, 0.9649], [0.02237, 0.12, 0.012, 67.36, 0.9649], [0.02237, 0.12, 0.012, 67.36, 0.9649], [0.02237, 0.12, 0.012, 67.36, 0.9649], [0.02237, 0.12, 0.012, 67.36, 0.9649], [0.02237, 0.12, 0.012, 67.36, 0.9649], [0.02237, 0.12, 0.012, 67.36, 0.9649]], [[0.02237, 0.12, 0.012, 67.36, 0.9649], [0.02237, 0.12, 0.012, 67.36, 0.9649], [0.02237, 0.12, 0.012, 67.36, 0.9649], [0.02237, 0.12, 0.012, 67.36, 0.9649], [0.02237, 0.12, 0.012, 67.36, 0.9649], [0.02237, 0.12, 0.012, 67.36, 0.9649], [0.02237, 0.12, 0.012, 67.36, 0.9649], [0.02237, 0.12, 0.012, 67.36, 0.9649], [0.02237, 0.12, 0.012, 67.36, 0.9649], [0.02237, 0.12, 0.012, 67.36, 0.9649], [0.02237, 0.12, 0.012, 67.36, 0.9649]], [[0.02237, 0.12, 0.012, 67.36, 0.9649], [0.02237, 0.12, 0.012, 67.36, 0.9649], [0.02237, 0.12, 0.012, 67.36, 0.9649], [0.02237, 0.12, 0.012, 67.36, 0.9649], [0.02237, 0.12, 0.012, 67.36, 0.9649], [0.02237, 0.12, 0.012, 67.36, 0.9649], [0.02237, 0.12, 0.012, 67.36, 0.9649], [0.02237, 0.12, 0.012, 67.36, 0.9649], [0.02237, 0.12, 0.012, 67.36, 0.9649], [0.02237, 0.12, 0.012, 67.36, 0.9649], [0.02237, 0.12, 0.012, 67.36, 0.9649]], [[0.02237, 0.12, 0.012, 67.36, 0.9649], [0.02237, 0.12, 0.012, 67.36, 0.9649], [0.02237, 0.12, 0.012, 67.36, 0.9649], [0.02237, 0.12, 0.012, 67.36, 0.9649], [0.02237, 0.12, 0.012, 67.36, 0.9649], [0.02237, 0.12, 0.012, 67.36, 0.9649], [0.02237, 0.12, 0.012, 67.36, 0.9649], [0.02237, 0.12, 0.012, 67.36, 0.9649], [0.02237, 0.12, 0.012, 67.36, 0.9649], [0.02237, 0.12, 0.012, 67.36, 0.9649], [0.02237, 0.12, 0.012, 67.36, 0.9649]]]\n"
     ]
    }
   ],
   "source": [
    "# lenght of redshift list\n",
    "numz = 301\n",
    "# minimum and maximum redshifts output by axionCAMB\n",
    "zmin, zmax = 0.0, 4.5\n",
    "# number of values to use for each parameter\n",
    "numvals = 11\n",
    "# fiducial parameter values\n",
    "# Omegabh^2, Omegach^2, Omegaah^2, H0, ns\n",
    "fiducials = [0.02237,0.12,0.12*0.1,67.36,0.9649]\n",
    "# one sigma errors for each parameter value\n",
    "sigmas = [0.00015,0.0012,0.12*0.1/2,0.54,0.0042]\n",
    "\n",
    "# range of redshifts at which axionCAMB outputs power spectra\n",
    "zrange = np.linspace(zmin,zmax,numz)\n",
    "# index of the fiducial parameter values\n",
    "mid = (numvals-1)/2\n",
    "values = [list(np.round(np.linspace(fiducials[i]-2*sigmas[i],fiducials[i]+2*sigmas[i],11),5)) for i in range(len(fiducials))]\n",
    "# combs = list(itertools.product(*values))\n",
    "# test = np.meshgrid(values[0],values[1],values[2],values[3],values[4])\n",
    "# for value in values:\n",
    "#     print(value)\n",
    "# test = np.meshgrid(fiducials,fiducials)\n",
    "# print(np.shape(test),test)\n",
    "\n",
    "test = [[fiducials]*numvals]*len(fiducials)\n",
    "print(np.shape(test),test)"
   ]
  },
  {
   "cell_type": "code",
   "execution_count": 4,
   "metadata": {},
   "outputs": [],
   "source": [
    "# omegabh2 = 0.12\n",
    "# sigma = 0.0012\n",
    "# omegabh2_values = list(np.round(np.linspace(omegabh2-2*sigma,omegabh2+2*sigma,10),4))\n",
    "# fa = list(np.round(np.linspace(.0001,0.2,10),3))\n",
    "# omegaah2 = np.round([[fa[j]*omegabh2_values[i] for i in range(len(omegabh2_values))] for j in range(len(fa))],4)\n",
    "# omegabh2_adjusted = [omegabh2_values]*10-omegaah2\n",
    "# pairs = np.round([[[omegabh2_adjusted[i][j],omegaah2[i][j]] for i in range(len(fa))] for j in range(len(omegabh2_values))],4)"
   ]
  },
  {
   "cell_type": "code",
   "execution_count": null,
   "metadata": {},
   "outputs": [],
   "source": []
  }
 ],
 "metadata": {
  "kernelspec": {
   "display_name": "Python 3",
   "language": "python",
   "name": "python3"
  },
  "language_info": {
   "codemirror_mode": {
    "name": "ipython",
    "version": 3
   },
   "file_extension": ".py",
   "mimetype": "text/x-python",
   "name": "python",
   "nbconvert_exporter": "python",
   "pygments_lexer": "ipython3",
   "version": "3.8.5"
  }
 },
 "nbformat": 4,
 "nbformat_minor": 4
}
