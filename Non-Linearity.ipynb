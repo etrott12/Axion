{
 "cells": [
  {
   "cell_type": "markdown",
   "metadata": {},
   "source": [
    "# Non-Linearity\n",
    "\n",
    "The scale at which structure formation becomes non-linear when the dimensionless power spectrum reaches $1.68^2$. Any scales smaller than this cannot be reliably used to obtain constraints.\n",
    "\n",
    "1. Find the wavenumber for which\n",
    "\n",
    "    $\\Delta^2(k_{NL};z) = 1.68^2$\n",
    "\n",
    "\n",
    "2. Compute the corresponding multipole\n",
    "\n",
    "    $\\ell_{NL}(z) = k_{NL}(z) D_A(z)$\n",
    "    \n",
    "It is also worth noting that LSST will only probe up to $\\ell = 3000$. Therefore, if the $\\ell_{NL} > 3000$ then the non-linearity is inconsequential. Also, at some redshifts the power spectrum simply does not reach the threshold for non-linear growth. These redshifts have been set to have $\\ell_{NL} = 0$ to denote that the non-linear scale does not exist."
   ]
  },
  {
   "cell_type": "code",
   "execution_count": 1,
   "metadata": {},
   "outputs": [
    {
     "name": "stdout",
     "output_type": "stream",
     "text": [
      "(5, 11, 9, 301, 660)\n"
     ]
    }
   ],
   "source": [
    "import numpy as np\n",
    "%matplotlib inline\n",
    "import matplotlib\n",
    "import matplotlib.pyplot as plt\n",
    "matplotlib.rc('text', usetex = True)\n",
    "\n",
    "%run Cosmology.ipynb\n",
    "\n",
    "# redshift parameters\n",
    "zmax = 3.5\n",
    "numz = 301\n",
    "dz = zmax/(numz-1.)\n",
    "zlist = np.arange(0,zmax+0.01,dz)\n",
    "# compute angular diameter distance from Cosmology\n",
    "da = np.reshape(d_a(z),(1,1,1,numz))\n",
    "\n",
    "# dimensionless power spectrum\n",
    "k = np.load('../data2/k.npy')[:,:,:,::-1]\n",
    "pk = np.load('../data2/pk.npy')[:,:,:,::-1]\n",
    "pk_dimless = (pk*np.power(k,3.0))/(2.0*np.square(np.pi))\n",
    "\n",
    "# find non-linear wavenumber\n",
    "knl = []\n",
    "# parameter dimension\n",
    "for i in range(5):\n",
    "    print(i+1,'/5')\n",
    "    h1 = []\n",
    "    # parameter value dimension\n",
    "    for j in range(11):\n",
    "        h2 = []\n",
    "        # axion mass dimension\n",
    "        for e in range(9):\n",
    "            h3 = []\n",
    "            # redshift dimension\n",
    "            for y in range(numz):\n",
    "                h4 = []\n",
    "                # wavenumber dimension\n",
    "                for s in range(660):\n",
    "                    if pk_dimless[i][j][e][y][s] >= np.square(1.68):\n",
    "                        h4.append(k[i][j][e][y][s])\n",
    "                if len(h4) == 0:\n",
    "                    # much larger than the survey cutoff\n",
    "                    h3.append(100000)\n",
    "                else:\n",
    "                    h3.append(h4[0])\n",
    "            h2.append(h3)\n",
    "        h1.append(h2)\n",
    "    knl.append(h1)\n",
    "\n",
    "# convert to non-linear multipole\n",
    "lnl = knl*da\n",
    "np.save('non_linear.npy',lnl)"
   ]
  },
  {
   "cell_type": "code",
   "execution_count": 2,
   "metadata": {},
   "outputs": [
    {
     "name": "stdout",
     "output_type": "stream",
     "text": [
      "bounds of z-bins [0.15, 0.45, 0.93, 1.56, 2.39, 3.5]\n",
      "average z of z-bins [0.3, 0.69, 1.25, 1.98, 2.94]\n"
     ]
    },
    {
     "data": {
      "image/png": "[encoded data removed]",
      "text/plain": [
       "<Figure size 432x288 with 1 Axes>"
      ]
     },
     "metadata": {
      "needs_background": "light"
     },
     "output_type": "display_data"
    }
   ],
   "source": [
    "%run Window_Functions.ipynb\n",
    "\n",
    "lnl = np.load('Data/non_linear.npy')\n",
    "plt.plot(zlist,lnl[0][0][4],'r',label = r'Non-Linear $\\ell$')\n",
    "plt.plot(zavg[0],np.interp(zavg[0],zlist,lnl[2][10][8]),'kD',markersize = 9,label = r'$z_{\\rm avg} = %s$ bin'%(zavg[0]))\n",
    "plt.plot(zavg[1],np.interp(zavg[1],zlist,lnl[2][10][8]),'k*',markersize = 12,label = r'$z_{\\rm avg} = %s$ bin'%(zavg[1]))\n",
    "plt.axhline(3000,color = 'blue',linestyle = 'dashed',label = r'LSST $\\ell_{\\rm max} = 3000$')\n",
    "plt.ylim(50,100000)\n",
    "plt.xlim(-0.2,2.5)\n",
    "plt.yscale('log')\n",
    "plt.xlabel(r'$z$',size = 14)\n",
    "plt.ylabel(r'$\\ell$',size = 14)\n",
    "#plt.title(r'Multipole at Which $P(\\ell,z)$ Becomes Non-Linear',size = 15)\n",
    "plt.legend(frameon = False,loc = 'lower right',fontsize = 14)\n",
    "plt.ylim(50,70000)\n",
    "# plt.savefig('non_linear.pdf')\n",
    "plt.show()\n",
    "plt.close('all')"
   ]
  },
  {
   "cell_type": "code",
   "execution_count": null,
   "metadata": {},
   "outputs": [],
   "source": []
  }
 ],
 "metadata": {
  "kernelspec": {
   "display_name": "Python 3",
   "language": "python",
   "name": "python3"
  },
  "language_info": {
   "codemirror_mode": {
    "name": "ipython",
    "version": 3
   },
   "file_extension": ".py",
   "mimetype": "text/x-python",
   "name": "python",
   "nbconvert_exporter": "python",
   "pygments_lexer": "ipython3",
   "version": "3.7.3"
  }
 },
 "nbformat": 4,
 "nbformat_minor": 2
}
