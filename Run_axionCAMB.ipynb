{
 "cells": [
  {
   "cell_type": "markdown",
   "metadata": {},
   "source": [
    "mpi message passing interface and pool to farm out to different processors on my computer"
   ]
  },
  {
   "cell_type": "markdown",
   "metadata": {},
   "source": [
    "## Compute all parameter combinations"
   ]
  },
  {
   "cell_type": "code",
   "execution_count": 6,
   "metadata": {},
   "outputs": [],
   "source": [
    "import numpy as np\n",
    "import subprocess\n",
    "\n",
    "# number of redshifts run by axionCAMB\n",
    "numz = 301\n",
    "# number of parameter values run for each parameter\n",
    "num_values = 9\n",
    "# minimum and maximum axion fraction values\n",
    "fa_min,fa_max = [0.0001,0.2]\n",
    "# fiducial parameter values from Planck 2015\n",
    "param_values = [0.02237,0.12,fa_min,67.36,0.9649]\n",
    "# 1-sigma values for each parameter from Planck 2015\n",
    "sigma1 = [0.00015,0.0012,0,0.54,0.0042]\n",
    "# convert 1-sigma to 2-sigma to create our prior (flat)\n",
    "sigma2 = [2*sigma1[i] for i in range(len(sigma1))]\n",
    "# create range of axion fractions\n",
    "fa = np.linspace(fa_min,fa_max,num_values)\n",
    "# convert axion fractions to axion energy densities\n",
    "omega_a = param_values[1]*fa\n",
    "# adjust the dark matter energy density to accommodate axions\n",
    "omega_c = param_values[1]-omega_a\n",
    "# axion mass list\n",
    "ma = np.logspace(-30,-24,100)\n",
    "\n",
    "# array of all parameter combinations\n",
    "param_array = []\n",
    "for i in range(len(param_values)):\n",
    "    dim = []\n",
    "    if i == 2:\n",
    "        dim.append(np.asarray(num_values*[param_values[0]]))\n",
    "        dim.append(omega_c)\n",
    "        dim.append(omega_a)\n",
    "        dim.append(np.asarray(num_values*[param_values[3]]))\n",
    "        dim.append(np.asarray(num_values*[param_values[4]]))\n",
    "    else:\n",
    "        for j in range(len(param_values)):\n",
    "            if i == j:\n",
    "                dim.append(np.linspace(param_values[i]-sigma2[i],param_values[i]+sigma2[i],num_values))\n",
    "            else:\n",
    "                dim.append(np.asarray(num_values*[param_values[j]]))\n",
    "    param_array.append(dim)\n",
    "# reshape parameter combination array\n",
    "a = np.transpose(param_array,(0,2,1))\n"
   ]
  },
  {
   "cell_type": "markdown",
   "metadata": {},
   "source": [
    "## Run axionCAMB for all parameter combinations"
   ]
  },
  {
   "cell_type": "code",
   "execution_count": null,
   "metadata": {},
   "outputs": [],
   "source": [
    "# run axionCamb for all parameter combinations\n",
    "# run_count, move_count, and print statements can show what parameter combinations are run and how many times axionCAMB is run\n",
    "# run_count = 0\n",
    "# move_count = 0\n",
    "for i in range(len(ma)):\n",
    "    for j in range(len(param_values)):\n",
    "        for k in range(num_values):\n",
    "            # print(a[j][k][0],a[j][k][1],a[j][k][2],ma[i],a[j][k][3],a[j][k][4])\n",
    "            subprocess.call('axionCAMB/./camb params_z4.ini 1 a[j][k][0] 2 a[j][k][1] 3 a[j][k][2] 4 ma[i] 5 a[j][k][3] 6 a[j][k][4]', shell = True)\n",
    "            # run_count += 1\n",
    "            for l in range(numz):\n",
    "                subprocess.call('mv test_matterpower%s.dat data/mass%s_param%s_value%s.dat' %(l,i,j,k), shell = True)\n",
    "                # move_count += 1\n",
    "# print('run axionCAMB ',run_count,' times and move ',move_count,' data files')"
   ]
  },
  {
   "cell_type": "markdown",
   "metadata": {},
   "source": [
    "## Combine all axionCAMB data runs into k and P(k) files"
   ]
  },
  {
   "cell_type": "code",
   "execution_count": 7,
   "metadata": {},
   "outputs": [],
   "source": [
    "# create k and pk arrays from axionCAMB runs\n",
    "k = []\n",
    "pk = []\n",
    "k.append([[[loadtxt('data/mass%s_param%s_value%s.dat'%(),unpack=True,usecols=[0]) for i in range(len(ma))] for j in range(len(param_values))] for k in range(len(num_values))])\n",
    "pk.append([[[loadtxt('data/mass%s_param%s_value%s.dat'%(),unpack=True,usecols=[1]) for i in range(len(ma))] for j in range(len(param_values))] for k in range(len(num_values))])\n",
    "\n",
    "# save k and pk arrays\n",
    "np.save('data/k.npy',k)\n",
    "np.save('data/pk.npy',pk)\n"
   ]
  },
  {
   "cell_type": "code",
   "execution_count": null,
   "metadata": {},
   "outputs": [],
   "source": [
    "\n",
    "#%run ../axionCAMB/./camb params_z4.ini\n",
    "\n",
    "# k = []\n",
    "# loadtxt('data/mass%s_param%s_value%s.dat' %())\n",
    "# k.append([[loadtxt('data/omegab_%s_%s.dat'%(i,y),unpack=True,usecols=[0]) for y in range(numz)] for i in range(runs)])\n",
    "# k.append([[loadtxt('data/omegac_%s_%s.dat'%(i,y),unpack=True,usecols=[0]) for y in range(numz)] for i in range(runs)])\n",
    "# k.append([[[loadtxt('data/fa_%s_ma_%s_%s.dat'%(i,j,y),unpack=True,usecols=[0]) for y in range(numz)] for j in range(runs)] for i in range(runs)])\n",
    "# k.append([[loadtxt('data/h_%s_%s.dat'%(i,y),unpack=True,usecols=[0]) for y in range(numz)] for i in range(runs)])\n",
    "# k.append([[loadtxt('data/ns_%s_%s.dat'%(i,y),unpack=True,usecols=[0]) for y in range(numz)] for i in range(runs)])\n",
    "\n",
    "\n",
    "# Pk = []\n",
    "# Pk_fiducial = []\n",
    "# Pk_fiducial.append([loadtxt('data/fiducial_%s.dat'%(y),unpack=True,usecols=[1]) for y in range(np.int(numz))])\n",
    "\n",
    "\n",
    "# Pk.append([[loadtxt('data/omegab_%s_%s.dat'%(i,y),unpack=True,usecols=[1]) for y in range(numz)] for i in range(runs)])\n",
    "# Pk.append([[loadtxt('data/omegac_%s_%s.dat'%(i,y),unpack=True,usecols=[1]) for y in range(numz)] for i in range(runs)])\n",
    "# Pk.append([[[loadtxt('data/fa_%s_ma_%s_%s.dat'%(i,j,y),unpack=True,usecols=[1]) for y in range(numz)] for j in range(runs)] for i in range(runs)])\n",
    "# Pk.append([[loadtxt('data/h_%s_%s.dat'%(i,y),unpack=True,usecols=[1]) for y in range(numz)] for i in range(runs)])\n",
    "# Pk.append([[loadtxt('data/ns_%s_%s.dat'%(i,y),unpack=True,usecols=[1]) for y in range(numz)] for i in range(runs)])\n",
    "# Pk.append([[[loadtxt('data/fa_%s_ma_%s_%s.dat'%(i,j,y),unpack = True,usecols = [1]) for y in range(numz)] for j in range(runs)] for i in range(runs)])\n",
    "\n",
    "# for i in range(2):\n",
    "#     ! ls ../axionCAMB/*.ini"
   ]
  }
 ],
 "metadata": {
  "kernelspec": {
   "display_name": "Python 3",
   "language": "python",
   "name": "python3"
  },
  "language_info": {
   "codemirror_mode": {
    "name": "ipython",
    "version": 3
   },
   "file_extension": ".py",
   "mimetype": "text/x-python",
   "name": "python",
   "nbconvert_exporter": "python",
   "pygments_lexer": "ipython3",
   "version": "3.8.5"
  }
 },
 "nbformat": 4,
 "nbformat_minor": 2
}
